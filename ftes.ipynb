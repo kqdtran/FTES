{
 "metadata": {
  "name": ""
 },
 "nbformat": 3,
 "nbformat_minor": 0,
 "worksheets": [
  {
   "cells": [
    {
     "cell_type": "markdown",
     "metadata": {},
     "source": [
      "# Connect to Facebook    \n",
      "Login to your Facebook account and go to https://developers.facebook.com/tools/explorer/ to obtain and set permissions for an access token."
     ]
    },
    {
     "cell_type": "code",
     "collapsed": false,
     "input": [
      "ACCESS_TOKEN = 'CAACEdEose0cBAM3TUmgXtVSCCvdHoncQqpKbp6WrCrGuNMQtgBsZBiJtGwZAKZA1bC5CGKhtCNnURflb9L1GVy51rOiAfJvOl1nE302TApqemz2om6ZAjZAlOVNOURIgyZAYYGTq0S94TI1GSay0Jif86ZCKSpiAggbKK3byqBIbCVIvKtfRQrScupeZCSWSTs3NHcH7nD5RbQZDZD'"
     ],
     "language": "python",
     "metadata": {},
     "outputs": [],
     "prompt_number": 28
    },
    {
     "cell_type": "markdown",
     "metadata": {},
     "source": [
      "# Import packages and dependencies"
     ]
    },
    {
     "cell_type": "code",
     "collapsed": false,
     "input": [
      "import facebook  # pip install facebook-sdk, not facebook\n",
      "import numpy as np\n",
      "import matplotlib.pyplot as plt\n",
      "import networkx as nx\n",
      "%matplotlib inline\n",
      "\n",
      "import requests\n",
      "import json\n",
      "import simplejson as sj"
     ],
     "language": "python",
     "metadata": {},
     "outputs": [],
     "prompt_number": 35
    },
    {
     "cell_type": "code",
     "collapsed": false,
     "input": [
      "def pp(o):\n",
      "    '''\n",
      "    A helper function to pretty-print Python objects as JSON\n",
      "    '''\n",
      "    print json.dumps(o, indent=1)"
     ],
     "language": "python",
     "metadata": {},
     "outputs": [],
     "prompt_number": 3
    },
    {
     "cell_type": "code",
     "collapsed": false,
     "input": [
      "# Creates a connection to the Graph API with your access token\n",
      "g = facebook.GraphAPI(ACCESS_TOKEN)\n",
      "\n",
      "# Sets a few request URL for later use\n",
      "me_url = 'https://graph.facebook.com/me/home?q=facebook&access_token=' + ACCESS_TOKEN\n",
      "req = requests.get(me_url)\n",
      "req"
     ],
     "language": "python",
     "metadata": {},
     "outputs": [
      {
       "metadata": {},
       "output_type": "pyout",
       "prompt_number": 40,
       "text": [
        "<Response [200]>"
       ]
      }
     ],
     "prompt_number": 40
    },
    {
     "cell_type": "code",
     "collapsed": false,
     "input": [
      "my_feed = sj.loads(req.content)['data']\n",
      "print len(my_feed)"
     ],
     "language": "python",
     "metadata": {},
     "outputs": [
      {
       "output_type": "stream",
       "stream": "stdout",
       "text": [
        "25\n"
       ]
      }
     ],
     "prompt_number": 39
    },
    {
     "cell_type": "code",
     "collapsed": false,
     "input": [
      "# Retrieves a group\n",
      "# The example below uses the Berkeley CS Group\n",
      "cal_cs_id = '266736903421190'\n",
      "pp(g.get_connections(cal_cs_id, 'feed'))"
     ],
     "language": "python",
     "metadata": {},
     "outputs": [],
     "prompt_number": 25
    }
   ],
   "metadata": {}
  }
 ]
}