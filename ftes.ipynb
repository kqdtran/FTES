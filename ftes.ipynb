{
 "metadata": {
  "name": ""
 },
 "nbformat": 3,
 "nbformat_minor": 0,
 "worksheets": [
  {
   "cells": [
    {
     "cell_type": "markdown",
     "metadata": {},
     "source": [
      "# Connect to Facebook    \n",
      "Login to your Facebook account and go to https://developers.facebook.com/tools/explorer/ to obtain and set permissions for an access token."
     ]
    },
    {
     "cell_type": "code",
     "collapsed": false,
     "input": [
      "ACCESS_TOKEN = 'CAACEdEose0cBAGmngXljzIoIg84zDWFeuxGxO1ixulIDUkZBhzqMljCvhJnBwwR2gSKuG1lYGfsfoCicJ4MCNcCjXmIbYZC1pAd2Opvcowum88DImGSBxbUXOPhop2IPKSbjgLvAxc72znespZBgvMCzB4KZBrynvo3noo2HnMc9CLnaXuZAFDGDODoNYz3KSlOZCQZC7SdIQZDZD'"
     ],
     "language": "python",
     "metadata": {},
     "outputs": [],
     "prompt_number": 11
    },
    {
     "cell_type": "markdown",
     "metadata": {},
     "source": [
      "# Import packages and dependencies"
     ]
    },
    {
     "cell_type": "code",
     "collapsed": false,
     "input": [
      "import requests\n",
      "import json\n",
      "import facebook  # pip install facebook-sdk, not facebook\n",
      "import numpy as np\n",
      "import matplotlib.pyplot as plt\n",
      "import networkx as nx\n",
      "%matplotlib inline\n",
      "\n",
      "from prettytable import PrettyTable\n",
      "from collections import Counter"
     ],
     "language": "python",
     "metadata": {},
     "outputs": [],
     "prompt_number": 2
    },
    {
     "cell_type": "code",
     "collapsed": false,
     "input": [
      "def pp(o):\n",
      "    '''\n",
      "    A helper function to pretty-print Python objects as JSON\n",
      "    '''\n",
      "    print json.dumps(o, indent=1)"
     ],
     "language": "python",
     "metadata": {},
     "outputs": [],
     "prompt_number": 3
    },
    {
     "cell_type": "code",
     "collapsed": false,
     "input": [
      "# Creates a connection to the Graph API with your access token\n",
      "g = facebook.GraphAPI(ACCESS_TOKEN)"
     ],
     "language": "python",
     "metadata": {},
     "outputs": [],
     "prompt_number": 12
    },
    {
     "cell_type": "code",
     "collapsed": false,
     "input": [
      "g.get_connections(\"me\", \"friends\")"
     ],
     "language": "python",
     "metadata": {},
     "outputs": [
      {
       "metadata": {},
       "output_type": "pyout",
       "prompt_number": 13,
       "text": [
        "{u'data': [{u'id': u'524467125', u'name': u'Teresa Rose Tenfelder'},\n",
        "  {u'id': u'524711216', u'name': u\"Phuoc 'Kiddo' Nguyen\"},\n",
        "  {u'id': u'525281635', u'name': u'Alice Man'},\n",
        "  {u'id': u'571921877',\n",
        "   u'name': u'\\u0422\\u0435\\u0439\\u043c\\u0443\\u0440 \\u041c\\u0443\\u0437\\u0448\\u0444\\u0435\\u043a'},\n",
        "  {u'id': u'574133128', u'name': u'Hien Le'},\n",
        "  {u'id': u'579780120', u'name': u'Joey Amerison'},\n",
        "  {u'id': u'588969378', u'name': u'Ethan Bauer'},\n",
        "  {u'id': u'601925220', u'name': u'Ami Bigit'},\n",
        "  {u'id': u'603558153', u'name': u'David Smith'},\n",
        "  {u'id': u'619347099', u'name': u'M\\u0169m M\\u0129m'},\n",
        "  {u'id': u'626197917', u'name': u'David Casas-Mao'},\n",
        "  {u'id': u'629906652', u'name': u'Reena Shah'},\n",
        "  {u'id': u'636903711', u'name': u'Claire Thompson'},\n",
        "  {u'id': u'637460591', u'name': u'Ben Lewis'},\n",
        "  {u'id': u'651498500', u'name': u'Dang Dinh Hung'},\n",
        "  {u'id': u'657168509', u'name': u'Michael Suey'},\n",
        "  {u'id': u'663755597', u'name': u'Roland Shen'},\n",
        "  {u'id': u'677204394', u'name': u'Darrell Vermilion'},\n",
        "  {u'id': u'711624999', u'name': u'Vy Do'},\n",
        "  {u'id': u'720055222', u'name': u'David Barrera'},\n",
        "  {u'id': u'723757561', u'name': u'Michael Zhang'},\n",
        "  {u'id': u'736758580', u'name': u'Morgan Fabian'},\n",
        "  {u'id': u'740148375', u'name': u'Phuc Nguyen'},\n",
        "  {u'id': u'750911386', u'name': u'Radhesh Devendran'},\n",
        "  {u'id': u'757737974', u'name': u'Alisha King'},\n",
        "  {u'id': u'794793150', u'name': u'Nguyen Dat'},\n",
        "  {u'id': u'805784485', u'name': u'Hao Le'},\n",
        "  {u'id': u'848419448', u'name': u'Tue Cao Mai'},\n",
        "  {u'id': u'1028794030', u'name': u'Vi\\u1ec7t Huy'},\n",
        "  {u'id': u'1030830109', u'name': u'Christina Ho'},\n",
        "  {u'id': u'1036114731', u'name': u'Takeo Hiraki'},\n",
        "  {u'id': u'1046093913', u'name': u'Luffy H. T\\u1eeb'},\n",
        "  {u'id': u'1117667156', u'name': u'Ph\\u1ea1m Minh Tr\\xed'},\n",
        "  {u'id': u'1118536327', u'name': u'Trung Bim'},\n",
        "  {u'id': u'1119286520', u'name': u'Elese Lorentzen-Gadd'},\n",
        "  {u'id': u'1128225389', u'name': u'Linh Nguyen'},\n",
        "  {u'id': u'1151500765', u'name': u'Mina Pham'},\n",
        "  {u'id': u'1155400636',\n",
        "   u'name': u'\\u0110\\xe0o Ng\\u1ecdc \\u0110\\u0103ng Khoa'},\n",
        "  {u'id': u'1156267112', u'name': u'Ietee Pandey'},\n",
        "  {u'id': u'1165350780', u'name': u'Su Htet Htet Win'},\n",
        "  {u'id': u'1182189233', u'name': u'Thien Anh Vo'},\n",
        "  {u'id': u'1191998340', u'name': u'Ferheen Abbasi'},\n",
        "  {u'id': u'1240321988', u'name': u'Andrew Koth'},\n",
        "  {u'id': u'1244167516', u'name': u'Minh Tri Le'},\n",
        "  {u'id': u'1244758389', u'name': u'Fatty An Tran'},\n",
        "  {u'id': u'1270448975', u'name': u'Vinay Gupta'},\n",
        "  {u'id': u'1283414140', u'name': u'Kamran Siddiqui'},\n",
        "  {u'id': u'1284741892', u'name': u'Annie Pham'},\n",
        "  {u'id': u'1292029987', u'name': u'Jennifer Fei'},\n",
        "  {u'id': u'1311419171', u'name': u'Dan Le'},\n",
        "  {u'id': u'1326058456', u'name': u'Cheryl Kwan'},\n",
        "  {u'id': u'1339614744', u'name': u'H\\u1ea1nh \\u0110inh'},\n",
        "  {u'id': u'1367952086', u'name': u'Minh Slim'},\n",
        "  {u'id': u'1367963782', u'name': u'Alex Matevish'},\n",
        "  {u'id': u'1370846554', u'name': u'Kishan Karu'},\n",
        "  {u'id': u'1404518810', u'name': u'Dao Duy Anh Duc'},\n",
        "  {u'id': u'1453599952', u'name': u'Qu\\xe2n Quay Qu\\u1ea7n'},\n",
        "  {u'id': u'1478409813', u'name': u'\\u0110\\xe0o Minh Quang'},\n",
        "  {u'id': u'1550028850', u'name': u'Henry Geerlings'},\n",
        "  {u'id': u'1561086925', u'name': u'Jody Zhang'},\n",
        "  {u'id': u'1603068573', u'name': u'Michael Romain'},\n",
        "  {u'id': u'1609728502', u'name': u'Duyen Truong'},\n",
        "  {u'id': u'1612686765', u'name': u'Ann Johnson'},\n",
        "  {u'id': u'1620678313', u'name': u'Jack Lin'},\n",
        "  {u'id': u'1673734693', u'name': u'Trang Tran'},\n",
        "  {u'id': u'1695141920', u'name': u'Tuan Anh Nguyen Dang'},\n",
        "  {u'id': u'1695482266', u'name': u'Khoa Tran'},\n",
        "  {u'id': u'1709278670', u'name': u'Ha Le'},\n",
        "  {u'id': u'1719940978', u'name': u'Tj Dhadwal'},\n",
        "  {u'id': u'1737559813', u'name': u'Chibi Pup'},\n",
        "  {u'id': u'1781202325', u'name': u'Khang Nguyen Chi'},\n",
        "  {u'id': u'1793056861', u'name': u'Nhan Thanh Nguyen'},\n",
        "  {u'id': u'1799108098', u'name': u'Alex Chao'},\n",
        "  {u'id': u'1814033775', u'name': u'Simon Shaolei Du'},\n",
        "  {u'id': u'1818676009', u'name': u'Desiree Chow'},\n",
        "  {u'id': u'1819720378', u'name': u'V\\xe2n Anh'},\n",
        "  {u'id': u'1838154942', u'name': u'Tram Do'},\n",
        "  {u'id': u'100000027594757', u'name': u'Steven Belding'},\n",
        "  {u'id': u'100000062442563', u'name': u'Khoi Tran'},\n",
        "  {u'id': u'100000065762888', u'name': u'Nguyen Do'},\n",
        "  {u'id': u'100000105240450', u'name': u'Ng\\xe2n Nguy\\u1ec5n'},\n",
        "  {u'id': u'100000117790812', u'name': u'Tuan Ho'},\n",
        "  {u'id': u'100000124958582', u'name': u'Chidofukuto Rimokatoji'},\n",
        "  {u'id': u'100000125032625', u'name': u'Tuan Doan'},\n",
        "  {u'id': u'100000157489550', u'name': u'Amy PDang'},\n",
        "  {u'id': u'100000163538217', u'name': u'Zee Pham'},\n",
        "  {u'id': u'100000174416983', u'name': u'Henti Ogilecun'},\n",
        "  {u'id': u'100000195920629', u'name': u'Neo Hung \\u2267\\u25e1\\u2266'},\n",
        "  {u'id': u'100000417270253', u'name': u'H\\u1eb1ng Ph\\u1ea1m'},\n",
        "  {u'id': u'100000422166434', u'name': u'Kien Vinh Tu'},\n",
        "  {u'id': u'100000429914114', u'name': u'Dang N. Le'},\n",
        "  {u'id': u'100000431092546', u'name': u'Kyle Yu'},\n",
        "  {u'id': u'100000575192060', u'name': u'Kevin Huynh'},\n",
        "  {u'id': u'100000735903908', u'name': u'Mana Nabati'},\n",
        "  {u'id': u'100001040648747', u'name': u'Shannon Camacho'},\n",
        "  {u'id': u'100001072372174', u'name': u'Wanh Lay'},\n",
        "  {u'id': u'100001077416922', u'name': u'Phan Giap Hoang Huy'},\n",
        "  {u'id': u'100001090617181', u'name': u'Jake Long Nguyen'},\n",
        "  {u'id': u'100001096815369', u'name': u'T\\xfa Uy\\xean'},\n",
        "  {u'id': u'100001128228421', u'name': u'Toan Nguyen'},\n",
        "  {u'id': u'100001148899490', u'name': u'Bryanna Reed'},\n",
        "  {u'id': u'100001152574782', u'name': u'Stephen Huang'},\n",
        "  {u'id': u'100001267212483', u'name': u'Qu\\xe2n Nguy\\u1ec5n'},\n",
        "  {u'id': u'100001432923607',\n",
        "   u'name': u'Minh Trang Tr\\u01b0\\u01a1ng Nguy\\u1ec5n'},\n",
        "  {u'id': u'100001435855255', u'name': u'David Bui'},\n",
        "  {u'id': u'100001547031600', u'name': u'Liz Huynh'},\n",
        "  {u'id': u'100001566973472', u'name': u'Van Dang'},\n",
        "  {u'id': u'100001611775489', u'name': u'Hil Alsibai'},\n",
        "  {u'id': u'100002080435581', u'name': u'Weier Wan'},\n",
        "  {u'id': u'100002292264586', u'name': u'Ntd Thuy'},\n",
        "  {u'id': u'100002761671363', u'name': u'Stanley Yang'},\n",
        "  {u'id': u'100003261376442', u'name': u'Giovanni Morgan'},\n",
        "  {u'id': u'100005868369540',\n",
        "   u'name': u'Ph\\u01b0\\u01a1ng Th\\u1ea3o Nguy\\u1ec5n'},\n",
        "  {u'id': u'100006526336094', u'name': u'Trevor Davenport'},\n",
        "  {u'id': u'100006763153362', u'name': u'Carl Shan'}],\n",
        " u'paging': {u'next': u'https://graph.facebook.com/1780707149/friends?access_token=CAACEdEose0cBAGmngXljzIoIg84zDWFeuxGxO1ixulIDUkZBhzqMljCvhJnBwwR2gSKuG1lYGfsfoCicJ4MCNcCjXmIbYZC1pAd2Opvcowum88DImGSBxbUXOPhop2IPKSbjgLvAxc72znespZBgvMCzB4KZBrynvo3noo2HnMc9CLnaXuZAFDGDODoNYz3KSlOZCQZC7SdIQZDZD&limit=5000&offset=5000&__after_id=100006763153362'}}"
       ]
      }
     ],
     "prompt_number": 13
    }
   ],
   "metadata": {}
  }
 ]
}